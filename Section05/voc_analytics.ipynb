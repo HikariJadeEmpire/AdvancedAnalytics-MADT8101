{
 "cells": [
  {
   "cell_type": "code",
   "execution_count": 2,
   "metadata": {},
   "outputs": [],
   "source": [
    "import numpy as np\n",
    "import pandas as pd\n",
    "\n",
    "import seaborn as sns\n",
    "import matplotlib.pyplot as plt\n",
    "%matplotlib inline\n",
    "\n",
    "import datetime as dt"
   ]
  },
  {
   "cell_type": "code",
   "execution_count": 4,
   "metadata": {},
   "outputs": [
    {
     "name": "stdout",
     "output_type": "stream",
     "text": [
      "<class 'pandas.core.frame.DataFrame'>\n",
      "RangeIndex: 76 entries, 0 to 75\n",
      "Data columns (total 1 columns):\n",
      " #   Column   Non-Null Count  Dtype \n",
      "---  ------   --------------  ----- \n",
      " 0   message  76 non-null     object\n",
      "dtypes: object(1)\n",
      "memory usage: 736.0+ bytes\n"
     ]
    }
   ],
   "source": [
    "df = pd.read_csv(\"D:\\DATA_Science\\GitHub\\BeforeGIT\\sentimentMacbookAirM1.csv\") # for Windows\n",
    "df.info()"
   ]
  },
  {
   "cell_type": "code",
   "execution_count": 5,
   "metadata": {},
   "outputs": [
    {
     "data": {
      "text/html": [
       "<div>\n",
       "<style scoped>\n",
       "    .dataframe tbody tr th:only-of-type {\n",
       "        vertical-align: middle;\n",
       "    }\n",
       "\n",
       "    .dataframe tbody tr th {\n",
       "        vertical-align: top;\n",
       "    }\n",
       "\n",
       "    .dataframe thead th {\n",
       "        text-align: right;\n",
       "    }\n",
       "</style>\n",
       "<table border=\"1\" class=\"dataframe\">\n",
       "  <thead>\n",
       "    <tr style=\"text-align: right;\">\n",
       "      <th></th>\n",
       "      <th>message</th>\n",
       "    </tr>\n",
       "  </thead>\n",
       "  <tbody>\n",
       "    <tr>\n",
       "      <th>0</th>\n",
       "      <td>มาคอนเฟิร์ม?อีกเสียงว่า Macbook?air? m1? ลื่นไ...</td>\n",
       "    </tr>\n",
       "    <tr>\n",
       "      <th>1</th>\n",
       "      <td>สอบถามได้มั้ยคะว่ากะจะซื้อ mac air m1 ไว้ทำงาน...</td>\n",
       "    </tr>\n",
       "    <tr>\n",
       "      <th>2</th>\n",
       "      <td>ผมยังใช้ M1 อยู่ถ้าไม่ได้ตัดต่อระดับเทพๆๆๆ ยัง...</td>\n",
       "    </tr>\n",
       "    <tr>\n",
       "      <th>3</th>\n",
       "      <td>ถ้าไม่นับเล่นเกมนะครับ นี่คือโน๊ตบุ๊คที่ดีที่ส...</td>\n",
       "    </tr>\n",
       "    <tr>\n",
       "      <th>4</th>\n",
       "      <td>จุดเด่นอีกอย่างคือ เสียงลำโพงมันดีมาก</td>\n",
       "    </tr>\n",
       "    <tr>\n",
       "      <th>...</th>\n",
       "      <td>...</td>\n",
       "    </tr>\n",
       "    <tr>\n",
       "      <th>71</th>\n",
       "      <td>Macbook air M1 ครับเพิ่งได้เครื่องมา ยังไม่ถึง...</td>\n",
       "    </tr>\n",
       "    <tr>\n",
       "      <th>72</th>\n",
       "      <td>ถ้าเมื่อก่อนจะเชียร์ pro เสมอ, แต่ตอนนี้ผมว่าจ...</td>\n",
       "    </tr>\n",
       "    <tr>\n",
       "      <th>73</th>\n",
       "      <td>ตามลักษณะ?การใช้งานเป็นหลัก สายตัดต่อวีดีโอ? ย...</td>\n",
       "    </tr>\n",
       "    <tr>\n",
       "      <th>74</th>\n",
       "      <td>ดูการทำงานแล้วก็งบด้วยนะครับถ้างบถึง pro ก็ดีค...</td>\n",
       "    </tr>\n",
       "    <tr>\n",
       "      <th>75</th>\n",
       "      <td>ผมเลือก MacBook Pro M1 แต่อัพเกรด Memory กับ S...</td>\n",
       "    </tr>\n",
       "  </tbody>\n",
       "</table>\n",
       "<p>76 rows × 1 columns</p>\n",
       "</div>"
      ],
      "text/plain": [
       "                                              message\n",
       "0   มาคอนเฟิร์ม?อีกเสียงว่า Macbook?air? m1? ลื่นไ...\n",
       "1   สอบถามได้มั้ยคะว่ากะจะซื้อ mac air m1 ไว้ทำงาน...\n",
       "2   ผมยังใช้ M1 อยู่ถ้าไม่ได้ตัดต่อระดับเทพๆๆๆ ยัง...\n",
       "3   ถ้าไม่นับเล่นเกมนะครับ นี่คือโน๊ตบุ๊คที่ดีที่ส...\n",
       "4               จุดเด่นอีกอย่างคือ เสียงลำโพงมันดีมาก\n",
       "..                                                ...\n",
       "71  Macbook air M1 ครับเพิ่งได้เครื่องมา ยังไม่ถึง...\n",
       "72  ถ้าเมื่อก่อนจะเชียร์ pro เสมอ, แต่ตอนนี้ผมว่าจ...\n",
       "73  ตามลักษณะ?การใช้งานเป็นหลัก สายตัดต่อวีดีโอ? ย...\n",
       "74  ดูการทำงานแล้วก็งบด้วยนะครับถ้างบถึง pro ก็ดีค...\n",
       "75  ผมเลือก MacBook Pro M1 แต่อัพเกรด Memory กับ S...\n",
       "\n",
       "[76 rows x 1 columns]"
      ]
     },
     "execution_count": 5,
     "metadata": {},
     "output_type": "execute_result"
    }
   ],
   "source": [
    "df"
   ]
  },
  {
   "cell_type": "code",
   "execution_count": null,
   "metadata": {},
   "outputs": [],
   "source": []
  }
 ],
 "metadata": {
  "kernelspec": {
   "display_name": "base",
   "language": "python",
   "name": "python3"
  },
  "language_info": {
   "codemirror_mode": {
    "name": "ipython",
    "version": 3
   },
   "file_extension": ".py",
   "mimetype": "text/x-python",
   "name": "python",
   "nbconvert_exporter": "python",
   "pygments_lexer": "ipython3",
   "version": "3.10.9"
  },
  "orig_nbformat": 4
 },
 "nbformat": 4,
 "nbformat_minor": 2
}
